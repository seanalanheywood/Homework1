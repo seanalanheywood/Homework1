{
 "cells": [
  {
   "cell_type": "code",
   "execution_count": 50,
   "metadata": {
    "collapsed": false
   },
   "outputs": [
    {
     "name": "stdout",
     "output_type": "stream",
     "text": [
      "Enter your name: Sean\n",
      "Hello, Sean, nice to meet you!\n"
     ]
    }
   ],
   "source": [
    "def program1():\n",
    "    name = input('Enter your name: ') #This line prompts the user to enter a name and stores to the variable called name.  \n",
    "    response = 'Hello, ' + name + ', nice to meet you!' #The variable response concatenates the single string, name, and second single string using the + operator. \n",
    "    print(response) #The print statement displays the elements stored in the variable response.\n",
    "program1()"
   ]
  },
  {
   "cell_type": "code",
   "execution_count": 54,
   "metadata": {
    "collapsed": false
   },
   "outputs": [
    {
     "name": "stdout",
     "output_type": "stream",
     "text": [
      "Enter a word: Homer\n",
      "Homer has 5 characters\n"
     ]
    }
   ],
   "source": [
    "def program2():\n",
    "    word = input('Enter a word: ')#This line prompts the user to enter a word and stores to the variable called word. \n",
    "    print(word, 'has', len(word), 'characters') #The print statement concatenates the variable word, string, length of the word, and the second string.\n",
    "                       #the len command takes the length of the stored word in the variable word and converts the results to an integer. \n",
    "program2()"
   ]
  },
  {
   "cell_type": "code",
   "execution_count": 56,
   "metadata": {
    "collapsed": false
   },
   "outputs": [
    {
     "name": "stdout",
     "output_type": "stream",
     "text": [
      "enter a noun: cat\n",
      "enter a verb: pet\n",
      "enter an adjective: furry\n",
      "enter an adverb: slowly\n",
      "Do you pet your furry cat slowly? That's Hilarious!\n"
     ]
    }
   ],
   "source": [
    "def program3():\n",
    "    #The first four input statements prompt the user to enter a noun, verb, adjective, and adverb. These are stores as variables named noun, verb, adjective, and adverb respectively.\n",
    "    noun = input('enter a noun: ')\n",
    "    verb = input('enter a verb: ')\n",
    "    adjective = input('enter an adjective: ')\n",
    "    adverb = input('enter an adverb: ')\n",
    "    print('Do you', verb, 'your', adjective, noun, adverb + \"? That's Hilarious!\")\n",
    "    #This print statement concatenates the strings and variables and displacys the results.\n",
    "    #Due to the spacing performed with commas, a + operator was used to prevent the question mark from a spacing error.\n",
    "program3()"
   ]
  },
  {
   "cell_type": "code",
   "execution_count": 79,
   "metadata": {
    "collapsed": false
   },
   "outputs": [
    {
     "name": "stdout",
     "output_type": "stream",
     "text": [
      "enter your first number: 10\n",
      "enter your second number: 5\n",
      "10 + 5 = 15 \n",
      "10 - 5 = 5 \n",
      "10 * 5 = 50 \n",
      "10 / 5 = 2\n"
     ]
    }
   ],
   "source": [
    "def program4():\n",
    "    #These input statements prompt the user to enter an integer for both varaibles called first_number and second_number.\n",
    "    first_number = int(input('enter your first number: '))\n",
    "    second_number = int(input('enter your second number: '))\n",
    "    #The next four lines are variables with the first_number and second number being added, subtracted, multiplied, and divided using the arithemtic operators.   \n",
    "    addition = first_number + second_number\n",
    "    subtraction = first_number - second_number\n",
    "    multiplication = first_number * second_number\n",
    "    division = first_number // second_number\n",
    "    print(first_number , '+', second_number, '=', addition, '\\n' + str(first_number), '-', second_number, '=', subtraction, '\\n'\n",
    "         + str(first_number), '*', second_number, '=', multiplication, '\\n' + str(first_number), '/', second_number, '=', division)\n",
    "    #The print statement concatenates the variables and strings then displays the results.\n",
    "    #Both commas and + operators were used to fulfill the spacing requirements.\n",
    "    #The escape sequence '\\n' creates a line break which is displayed in the results.\n",
    "program4()"
   ]
  },
  {
   "cell_type": "code",
   "execution_count": 2,
   "metadata": {
    "collapsed": false
   },
   "outputs": [
    {
     "name": "stdout",
     "output_type": "stream",
     "text": [
      "enter your age: 25\n",
      "enter your desired retirement age: 65\n",
      "You have 40 years until you can retire.\n",
      "It's 2017, so you can retire in 2057\n"
     ]
    }
   ],
   "source": [
    "def program5():\n",
    "    import datetime #The datetime module is imported into the program to be used in a future line.\n",
    "    #These input statements prompt the user to enter an integer for both varaibles called age and retire.\n",
    "    age = int(input('enter your age: '))\n",
    "    retire = int(input('enter your desired retirement age: '))\n",
    "    time_between = retire - age #stores the difference between retire and age as the variable time_between\n",
    "    now = datetime.datetime.now() #datetime.now stores the information about today's date when the user runs the program.\n",
    "    print('You have', time_between, 'years until you can retire.') #The first print statement concatenates the string, time_between, and the second string then displays the results in the first line,\n",
    "    print(\"It's\", str(now.year)+ \", so you can retire in\", now.year + time_between) #The second print statement concatenates strings and variables as well and displays the results on the second line.\n",
    "    #In order to display the second print statement properly, you need to use .year to extract the current year using the imported module.\n",
    "    #The str function converts the integer into a string so we can continue to concatenate without error.\n",
    "program5()"
   ]
  },
  {
   "cell_type": "code",
   "execution_count": 89,
   "metadata": {
    "collapsed": false
   },
   "outputs": [
    {
     "name": "stdout",
     "output_type": "stream",
     "text": [
      "enter the length of the room in feet: 15\n",
      "enter the width of the room in feet: 20\n",
      "You entered dimensions of 15 feet by 20 feet\n",
      "The area is\n",
      "300 square feet\n",
      "27.870912 square_meters\n"
     ]
    }
   ],
   "source": [
    "def program6():\n",
    "    #These input statements prompt the user to enter an integer for both variables called length and width.\n",
    "    length = int(input('enter the length of the room in feet: '))\n",
    "    width = int(input('enter the width of the room in feet: '))\n",
    "    area = length * width #Stores the value of area as the variable area.\n",
    "    CF = .09290304 #Conversion factor stored as the variable CF\n",
    "    square_meters = area * CF #Stores the formula for converting square feet to square meters.\n",
    "    print('You entered dimensions of', length, 'feet by', width, 'feet') #The first print statement concatenates the strings and variables then displays the results on the first line\n",
    "    print('The area is') #The second print statement displays the string on the second line\n",
    "    print(area, 'square feet') #The third print statement concatenates the variable and string then displays on the third line.\n",
    "    print(square_meters, 'square_meters') #The fourth print statement concatenates the variable and string then displays on the fourth line.\n",
    "program6()"
   ]
  },
  {
   "cell_type": "code",
   "execution_count": 94,
   "metadata": {
    "collapsed": false
   },
   "outputs": [
    {
     "name": "stdout",
     "output_type": "stream",
     "text": [
      "enter the number of people: 9\n",
      "enter the number of pizzas: 2\n",
      "enter the number of slices: 8\n",
      "9 people with 2 pizzas\n",
      "Each person gets 1 pieces of pizza\n",
      "There are 7 leftover pieces\n"
     ]
    }
   ],
   "source": [
    "def program7():\n",
    "    #These input statements prompt the user to enter an for the variables called people, pizzas, and slices_per_pizza.\n",
    "    people = int(input('enter the number of people: '))\n",
    "    pizzas = int(input('enter the number of pizzas: '))\n",
    "    slices_per_pizza = int(input('enter the number of slices: '))\n",
    "    total_slices = slices_per_pizza * pizzas #This multiplies the number of slices_per_pizza and pizzas then stores the value as the variable total_slices.\n",
    "    pizza_per_person, leftovers = divmod(total_slices, people) #The divmod function takes the quotient of the variables total_slices and people.\n",
    "    #Then, the divmod function stores the quotient as the first variable pizza_per_person and stores the remainder as leftovers.\n",
    "    print(people, 'people with', pizzas, 'pizzas') #The first print statement concatenates the variables and strings then displays on the first line.\n",
    "    print('Each person gets', pizza_per_person, 'pieces of pizza') #The second print statement does the same thing as the first print statement.\n",
    "    #Note, the divmod function has calculated the quotient and is stored in the variable pizza_per_slice. The value is displayed.\n",
    "    print('There are', leftovers, 'leftover pieces') #The third print statement concatenates strings and variables as well.\n",
    "    #Note, the divmod function has calcuated the remainder and stored the value in the variable leftovers.\n",
    "program7()"
   ]
  },
  {
   "cell_type": "code",
   "execution_count": 12,
   "metadata": {
    "collapsed": false
   },
   "outputs": [
    {
     "name": "stdout",
     "output_type": "stream",
     "text": [
      "enter the length: 76\n",
      "enter the width: 76\n",
      "You will need to purchase 17 gallons of paint to cover 5776 square feet.\n"
     ]
    }
   ],
   "source": [
    "def program8():\n",
    "    #These input statements prompt the user to enter an integer for the variables called length and width.\n",
    "    length = int(input('enter the length: '))\n",
    "    width = int(input('enter the width: '))\n",
    "    #The next two variables calculate results using the other variables and store the values as sqft and gallon.\n",
    "    sqft = length * width \n",
    "    gallon = (-(-sqft // 350)) #Note, we need to round up because we need to buy a gallon with a whole number value. \n",
    "    #The // function naturally rounds down to the nearest whole number. If we do this to a negative number, it would reverse the rounding down to rounding up because the values are trying to round up a negative number.\n",
    "    #For example, rounding to the next value of -21 is -30. That same direction is applied in the variable but multiplied by -1 after the operator is performed, thus rounding up with positive numbers.\n",
    "    print('You will need to purchase', gallon, 'gallons of paint to cover', sqft, 'square feet.')\n",
    "    #The print statement concatenates the strings and values then displays the results.\n",
    "program8()"
   ]
  },
  {
   "cell_type": "code",
   "execution_count": 35,
   "metadata": {
    "collapsed": false
   },
   "outputs": [
    {
     "name": "stdout",
     "output_type": "stream",
     "text": [
      "enter a qty for item1: 25\n",
      "enter a price for item1: 2\n",
      "enter a qty for item2: 10\n",
      "enter a price for item2: 4\n",
      "enter a qty for item3: 2\n",
      "enter a price for item3: 1\n",
      "subtotal: $92.00 \n",
      " tax: $5.06 \n",
      " total: $97.06\n"
     ]
    }
   ],
   "source": [
    "def program9():\n",
    "    #These input statements prompt the user to enter an integer for the variables item1qty, item1price, item2qty, item2price, item3qty, and item3price.\n",
    "    item1qty = int(input('enter a qty for item1: '))\n",
    "    item1price = int(input('enter a price for item1: '))\n",
    "    item2qty = int(input('enter a qty for item2: '))\n",
    "    item2price = int(input('enter a price for item2: '))\n",
    "    item3qty = int(input('enter a qty for item3: '))\n",
    "    item3price = int(input('enter a price for item3: '))\n",
    "    subtotal = item1qty * item1price + item2qty * item2price + item3qty * item3price #calculates the subtotal using the previously stored variables and stores the results as subtotal.\n",
    "    tax = subtotal * .055 #calculates the tax for the subtotal and stores as tax.\n",
    "    total = subtotal + tax #calculates the total cost and stores the value as total.\n",
    "    print('subtotal:', '${:,.2f}'.format(subtotal),'\\n', \n",
    "          'tax:', '${:,.2f}'.format(tax),'\\n', \n",
    "          'total:', '${:,.2f}'.format(total))\n",
    "    #These print statements concatenate the strings and variables, breaks the page using the escape sequence, and formats to dollars then displays the results.\n",
    "    #The {:,.2f} indicates that we are going to format a variable. The colon represents the variable or value we are formatting. .2f displays the results with two significant figures.\n",
    "    #The comma before the colon in braces will add a comma if the value of the variable exceeds 999.99. \n",
    "    #The $ sign is outside the braces and is added to the .format output.\n",
    "    #We surround the variables in the .format statement for each statement, and the variables in the braces format the values to the desired results.\n",
    "program9()"
   ]
  },
  {
   "cell_type": "code",
   "execution_count": 38,
   "metadata": {
    "collapsed": false
   },
   "outputs": [
    {
     "name": "stdout",
     "output_type": "stream",
     "text": [
      "enter the principal: 1500\n",
      "enter the rate of interest: 4.3\n",
      "enter the number of years: 4\n",
      "After 4 years at 4.30%, the investment will be worth $1,758.00\n"
     ]
    }
   ],
   "source": [
    "def program10():\n",
    "    #These input statements prompt the user to enter an integer for the variables principal and time while the variable rate asks for a number. \n",
    "    principal = int(input('enter the principal: '))\n",
    "    rate = float(input('enter the rate of interest: '))\n",
    "    time = int(input('enter the number of years: '))\n",
    "    #The next line calculates the simple interest using the old variables and arthmetic functions then stores to the variable simple_interest.\n",
    "    simple_interest = principal * (1 + (rate/100)*time)\n",
    "    print('After', time, 'years at', '{:.2f}%,'.format(rate), \"the investment will be worth\", '${:,.2f}'.format(simple_interest))\n",
    "    #This print statement concatenates the strings and variables as well as formats the variables rate and sample_interest.\n",
    "    #The [:.2f] indicates that we are going to format a variable. The colon represents the variable or value we are formatting. .2f displays the results with two significant figures.\n",
    "    #The {:,.2f} indicates that we are going to format a variable. The colon represents the variable or value we are formatting. .2f displays the results with two significant figures.\n",
    "    #The $ and % sign outside the braces are added before and after the formatted variables depending on the placement of the signs.\n",
    "    #The comma before the colon in braces will add a comma if the value of the variable exceeds 999.99.\n",
    "program10()"
   ]
  },
  {
   "cell_type": "code",
   "execution_count": null,
   "metadata": {
    "collapsed": true
   },
   "outputs": [],
   "source": []
  }
 ],
 "metadata": {
  "anaconda-cloud": {},
  "kernelspec": {
   "display_name": "Python [conda root]",
   "language": "python",
   "name": "conda-root-py"
  },
  "language_info": {
   "codemirror_mode": {
    "name": "ipython",
    "version": 3
   },
   "file_extension": ".py",
   "mimetype": "text/x-python",
   "name": "python",
   "nbconvert_exporter": "python",
   "pygments_lexer": "ipython3",
   "version": "3.5.2"
  }
 },
 "nbformat": 4,
 "nbformat_minor": 1
}
