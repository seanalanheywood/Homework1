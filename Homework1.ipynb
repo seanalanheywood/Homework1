{
 "cells": [
  {
   "cell_type": "code",
   "execution_count": 50,
   "metadata": {
    "collapsed": false
   },
   "outputs": [
    {
     "name": "stdout",
     "output_type": "stream",
     "text": [
      "Enter your name: Sean\n",
      "Hello, Sean, nice to meet you!\n"
     ]
    }
   ],
   "source": [
    "def program1():\n",
    "    name = input('Enter your name: ')\n",
    "    response = 'Hello, ' + name + ', nice to meet you!'\n",
    "    print(response)\n",
    "program1()"
   ]
  },
  {
   "cell_type": "code",
   "execution_count": 54,
   "metadata": {
    "collapsed": false
   },
   "outputs": [
    {
     "name": "stdout",
     "output_type": "stream",
     "text": [
      "Enter a word: Homer\n",
      "Homer has 5 characters\n"
     ]
    }
   ],
   "source": [
    "def program2():\n",
    "    word = input('Enter a word: ')\n",
    "    print(word, 'has', len(word), 'characters')\n",
    "program2()"
   ]
  },
  {
   "cell_type": "code",
   "execution_count": 56,
   "metadata": {
    "collapsed": false
   },
   "outputs": [
    {
     "name": "stdout",
     "output_type": "stream",
     "text": [
      "enter a noun: cat\n",
      "enter a verb: pet\n",
      "enter an adjective: furry\n",
      "enter an adverb: slowly\n",
      "Do you pet your furry cat slowly? That's Hilarious!\n"
     ]
    }
   ],
   "source": [
    "def program3():\n",
    "    noun = input('enter a noun: ')\n",
    "    verb = input('enter a verb: ')\n",
    "    adjective = input('enter an adjective: ')\n",
    "    adverb = input('enter an adverb: ')\n",
    "    print('Do you', verb, 'your', adjective, noun, adverb + \"? That's Hilarious!\")\n",
    "program3()"
   ]
  },
  {
   "cell_type": "code",
   "execution_count": 79,
   "metadata": {
    "collapsed": false
   },
   "outputs": [
    {
     "name": "stdout",
     "output_type": "stream",
     "text": [
      "enter your first number: 10\n",
      "enter your second number: 5\n",
      "10 + 5 = 15 \n",
      "10 - 5 = 5 \n",
      "10 * 5 = 50 \n",
      "10 / 5 = 2\n"
     ]
    }
   ],
   "source": [
    "def program4():\n",
    "    first_number = int(input('enter your first number: '))\n",
    "    second_number = int(input('enter your second number: '))\n",
    "    addition = first_number + second_number\n",
    "    subtraction = first_number - second_number\n",
    "    multiplication = first_number * second_number\n",
    "    division = first_number // second_number\n",
    "    print(first_number , '+', second_number, '=', addition, '\\n' + str(first_number), '-', second_number, '=', subtraction, '\\n'\n",
    "         + str(first_number), '*', second_number, '=', multiplication, '\\n' + str(first_number), '/', second_number, '=', division)\n",
    "program4()"
   ]
  },
  {
   "cell_type": "code",
   "execution_count": 87,
   "metadata": {
    "collapsed": false
   },
   "outputs": [
    {
     "name": "stdout",
     "output_type": "stream",
     "text": [
      "enter your age: 25\n",
      "enter your desired retirement age: 65\n",
      "You have 40 years until you can retire.\n",
      "It's 2017, so you can retire in 2057\n"
     ]
    }
   ],
   "source": [
    "def program5():\n",
    "    import datetime\n",
    "    age = int(input('enter your age: '))\n",
    "    retire = int(input('enter your desired retirement age: '))\n",
    "    time_between = retire - age\n",
    "    now = datetime.datetime.now()\n",
    "    print('You have', time_between, 'years until you can retire.')\n",
    "    print(\"It's\", str(now.year)+ \", so you can retire in\", now.year + time_between)\n",
    "program5()"
   ]
  },
  {
   "cell_type": "code",
   "execution_count": 89,
   "metadata": {
    "collapsed": false
   },
   "outputs": [
    {
     "name": "stdout",
     "output_type": "stream",
     "text": [
      "enter the length of the room in feet: 15\n",
      "enter the width of the room in feet: 20\n",
      "You entered dimensions of 15 feet by 20 feet\n",
      "The area is\n",
      "300 square feet\n",
      "27.870912 square_meters\n"
     ]
    }
   ],
   "source": [
    "def program6():\n",
    "    length = int(input('enter the length of the room in feet: '))\n",
    "    width = int(input('enter the width of the room in feet: '))\n",
    "    area = length * width\n",
    "    CF = .09290304\n",
    "    square_meters = area * CF\n",
    "    print('You entered dimensions of', length, 'feet by', width, 'feet')\n",
    "    print('The area is')\n",
    "    print(area, 'square feet')\n",
    "    print(square_meters, 'square_meters')\n",
    "program6()"
   ]
  },
  {
   "cell_type": "code",
   "execution_count": 94,
   "metadata": {
    "collapsed": false
   },
   "outputs": [
    {
     "name": "stdout",
     "output_type": "stream",
     "text": [
      "enter the number of people: 9\n",
      "enter the number of pizzas: 2\n",
      "enter the number of slices: 8\n",
      "9 people with 2 pizzas\n",
      "Each person gets 1 pieces of pizza\n",
      "There are 7 leftover pieces\n"
     ]
    }
   ],
   "source": [
    "def program7():\n",
    "    people = int(input('enter the number of people: '))\n",
    "    pizzas = int(input('enter the number of pizzas: '))\n",
    "    slices_per_pizza = int(input('enter the number of slices: '))\n",
    "    total_slices = slices_per_pizza * pizzas\n",
    "    pizza_per_person, leftovers = divmod(total_slices, people) \n",
    "    print(people, 'people with', pizzas, 'pizzas')\n",
    "    print('Each person gets', pizza_per_person, 'pieces of pizza')\n",
    "    print('There are', leftovers, 'leftover pieces')\n",
    "program7()"
   ]
  },
  {
   "cell_type": "code",
   "execution_count": 12,
   "metadata": {
    "collapsed": false
   },
   "outputs": [
    {
     "name": "stdout",
     "output_type": "stream",
     "text": [
      "enter the length: 76\n",
      "enter the width: 76\n",
      "You will need to purchase 17 gallons of paint to cover 5776 square feet.\n"
     ]
    }
   ],
   "source": [
    "def program8():\n",
    "    length = int(input('enter the length: '))\n",
    "    width = int(input('enter the width: '))\n",
    "    sqft = length * width\n",
    "    gallon = (-(-sqft // 350))\n",
    "    print('You will need to purchase', gallon, 'gallons of paint to cover', sqft, 'square feet.')\n",
    "program8()"
   ]
  },
  {
   "cell_type": "code",
   "execution_count": 35,
   "metadata": {
    "collapsed": false
   },
   "outputs": [
    {
     "name": "stdout",
     "output_type": "stream",
     "text": [
      "enter a qty for item1: 25\n",
      "enter a price for item1: 2\n",
      "enter a qty for item2: 10\n",
      "enter a price for item2: 4\n",
      "enter a qty for item3: 2\n",
      "enter a price for item3: 1\n",
      "subtotal: $92.00 \n",
      " tax: $5.06 \n",
      " total: $97.06\n"
     ]
    }
   ],
   "source": [
    "def program9():\n",
    "    item1qty = int(input('enter a qty for item1: '))\n",
    "    item1price = int(input('enter a price for item1: '))\n",
    "    item2qty = int(input('enter a qty for item2: '))\n",
    "    item2price = int(input('enter a price for item2: '))\n",
    "    item3qty = int(input('enter a qty for item3: '))\n",
    "    item3price = int(input('enter a price for item3: '))\n",
    "    subtotal = item1qty * item1price + item2qty * item2price + item3qty * item3price\n",
    "    tax = subtotal * .055\n",
    "    total = subtotal + tax\n",
    "    print('subtotal:', '${:,.2f}'.format(subtotal),'\\n', \n",
    "          'tax:', '${:,.2f}'.format(tax),'\\n', \n",
    "          'total:', '${:,.2f}'.format(total))\n",
    "program9()"
   ]
  },
  {
   "cell_type": "code",
   "execution_count": 38,
   "metadata": {
    "collapsed": false
   },
   "outputs": [
    {
     "name": "stdout",
     "output_type": "stream",
     "text": [
      "enter the principal: 1500\n",
      "enter the rate of interest: 4.3\n",
      "enter the number of years: 4\n",
      "After 4 years at 4.30%, the investment will be worth $1,758.00\n"
     ]
    }
   ],
   "source": [
    "def program10():\n",
    "    principal = int(input('enter the principal: '))\n",
    "    rate = float(input('enter the rate of interest: '))\n",
    "    time = int(input('enter the number of years: '))\n",
    "    simple_interest = principal * (1 + (rate/100)*time)\n",
    "    print('After', time, 'years at', '{:.2f}%,'.format(rate), \"the investment will be worth\", '${:,.2f}'.format(simple_interest))\n",
    "program10()"
   ]
  },
  {
   "cell_type": "code",
   "execution_count": null,
   "metadata": {
    "collapsed": true
   },
   "outputs": [],
   "source": []
  }
 ],
 "metadata": {
  "anaconda-cloud": {},
  "kernelspec": {
   "display_name": "Python [conda root]",
   "language": "python",
   "name": "conda-root-py"
  },
  "language_info": {
   "codemirror_mode": {
    "name": "ipython",
    "version": 3
   },
   "file_extension": ".py",
   "mimetype": "text/x-python",
   "name": "python",
   "nbconvert_exporter": "python",
   "pygments_lexer": "ipython3",
   "version": "3.5.2"
  }
 },
 "nbformat": 4,
 "nbformat_minor": 1
}
